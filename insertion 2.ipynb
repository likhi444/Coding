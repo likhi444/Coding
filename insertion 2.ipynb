{
  "nbformat": 4,
  "nbformat_minor": 0,
  "metadata": {
    "colab": {
      "provenance": [],
      "authorship_tag": "ABX9TyN1pSFK6QGJt3891Xzes0ui",
      "include_colab_link": true
    },
    "kernelspec": {
      "name": "python3",
      "display_name": "Python 3"
    },
    "language_info": {
      "name": "python"
    }
  },
  "cells": [
    {
      "cell_type": "markdown",
      "metadata": {
        "id": "view-in-github",
        "colab_type": "text"
      },
      "source": [
        "<a href=\"https://colab.research.google.com/github/likhi444/Coding/blob/master/insertion%202.ipynb\" target=\"_parent\"><img src=\"https://colab.research.google.com/assets/colab-badge.svg\" alt=\"Open In Colab\"/></a>"
      ]
    },
    {
      "cell_type": "code",
      "execution_count": 3,
      "metadata": {
        "colab": {
          "base_uri": "https://localhost:8080/"
        },
        "id": "GxNc1aMUJHY4",
        "outputId": "85601313-8342-4639-fd7d-ec706cbc8c21"
      },
      "outputs": [
        {
          "output_type": "stream",
          "name": "stdout",
          "text": [
            "[3, 5, 6, 7, 2, 4, 8]\n",
            "[2, 3, 4, 5, 6, 7, 8]\n"
          ]
        }
      ],
      "source": [
        "def isn(a,n):\n",
        "  for i in range(1,n):\n",
        "    ele=a[i]\n",
        "    j=i-1\n",
        "    while(j>=0 and ele<a[j]):\n",
        "      a[j+1]=a[j]\n",
        "      j=j-1\n",
        "    a[j+1]=ele\n",
        "a=[3,5,6,7,2,4,8]\n",
        "print(a)\n",
        "isn(a,len(a))\n",
        "print(a)"
      ]
    }
  ]
}