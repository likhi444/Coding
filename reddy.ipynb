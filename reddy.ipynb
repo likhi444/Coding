{
  "nbformat": 4,
  "nbformat_minor": 0,
  "metadata": {
    "colab": {
      "provenance": [],
      "authorship_tag": "ABX9TyMfmtTq47iM8M8YFZwgBzwo"
    },
    "kernelspec": {
      "name": "python3",
      "display_name": "Python 3"
    },
    "language_info": {
      "name": "python"
    }
  },
  "cells": [
    {
      "cell_type": "code",
      "execution_count": 1,
      "metadata": {
        "colab": {
          "base_uri": "https://localhost:8080/"
        },
        "id": "2bwbMrDR18EY",
        "outputId": "0a235510-1249-4872-c21f-9590c70aeebb"
      },
      "outputs": [
        {
          "output_type": "stream",
          "name": "stdout",
          "text": [
            "[1, 3, 0, 4, 5, 7]\n"
          ]
        }
      ],
      "source": [
        "nums=[1,3,4,5,0,7]\n",
        "n1=[]\n",
        "n2=[]\n",
        "for i in nums:\n",
        "  if i ==0:\n",
        "    n1.append(i)\n",
        "  else:\n",
        "    n2.append(i)\n",
        "k=int(len(n2)/2)\n",
        "p=n2[:k]\n",
        "p1=n2[k:]\n",
        "print(p+n1+p1)"
      ]
    },
    {
      "cell_type": "code",
      "source": [
        "n=int(input())\n",
        "if n%2==0:\n",
        "   if n>6 and n <=20:\n",
        "    print(\"weired\")\n",
        "   else:\n",
        "    print(\"Not weired\")\n",
        "else:\n",
        "  print(\"weired\")"
      ],
      "metadata": {
        "colab": {
          "base_uri": "https://localhost:8080/"
        },
        "id": "6utDOaU-2C5B",
        "outputId": "709eb0ab-1a74-4bd5-b51e-6c8b8195cb22"
      },
      "execution_count": 2,
      "outputs": [
        {
          "output_type": "stream",
          "name": "stdout",
          "text": [
            "6\n",
            "Not weired\n"
          ]
        }
      ]
    },
    {
      "cell_type": "code",
      "source": [
        "nums=[0,1,2,4,0,8,0]\n",
        "n1=[]\n",
        "n2=[]\n",
        "for i in nums:\n",
        "  if i==0:\n",
        "    n1.append(i)\n",
        "  else:\n",
        "    n2.append(i)\n",
        "print(n1+n2)"
      ],
      "metadata": {
        "colab": {
          "base_uri": "https://localhost:8080/"
        },
        "id": "6oOs7ZcX2GGz",
        "outputId": "162f3cbe-b461-4e13-d2f8-9a7f6ba91e19"
      },
      "execution_count": 3,
      "outputs": [
        {
          "output_type": "stream",
          "name": "stdout",
          "text": [
            "[0, 0, 0, 1, 2, 4, 8]\n"
          ]
        }
      ]
    }
  ]
}