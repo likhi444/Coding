{
  "nbformat": 4,
  "nbformat_minor": 0,
  "metadata": {
    "colab": {
      "provenance": [],
      "authorship_tag": "ABX9TyNUIQ34fuYfI2om61mfgl2+",
      "include_colab_link": true
    },
    "kernelspec": {
      "name": "python3",
      "display_name": "Python 3"
    },
    "language_info": {
      "name": "python"
    }
  },
  "cells": [
    {
      "cell_type": "markdown",
      "metadata": {
        "id": "view-in-github",
        "colab_type": "text"
      },
      "source": [
        "<a href=\"https://colab.research.google.com/github/likhi444/Coding/blob/master/stack.ipynb\" target=\"_parent\"><img src=\"https://colab.research.google.com/assets/colab-badge.svg\" alt=\"Open In Colab\"/></a>"
      ]
    },
    {
      "cell_type": "code",
      "execution_count": 5,
      "metadata": {
        "colab": {
          "base_uri": "https://localhost:8080/"
        },
        "id": "hsdwpyTjoPeM",
        "outputId": "95100f86-bf30-4a92-8a49-aa59533f907f"
      },
      "outputs": [
        {
          "output_type": "stream",
          "name": "stdout",
          "text": [
            "AHTIHKIL\n"
          ]
        }
      ],
      "source": [
        "s=\"LIKHITHA\"\n",
        "s1=list(s)\n",
        "def pop():\n",
        "  restr=\"\"\n",
        "  for i in range(len(s1)):\n",
        "    PE=s1.pop()\n",
        "    restr+=PE\n",
        "  print(restr)\n",
        "pop()"
      ]
    }
  ]
}