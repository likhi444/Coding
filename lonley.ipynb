{
  "nbformat": 4,
  "nbformat_minor": 0,
  "metadata": {
    "colab": {
      "provenance": [],
      "authorship_tag": "ABX9TyPtIjMMNkboFrQbLdd66nKe",
      "include_colab_link": true
    },
    "kernelspec": {
      "name": "python3",
      "display_name": "Python 3"
    },
    "language_info": {
      "name": "python"
    }
  },
  "cells": [
    {
      "cell_type": "markdown",
      "metadata": {
        "id": "view-in-github",
        "colab_type": "text"
      },
      "source": [
        "<a href=\"https://colab.research.google.com/github/likhi444/Coding/blob/master/lonley.ipynb\" target=\"_parent\"><img src=\"https://colab.research.google.com/assets/colab-badge.svg\" alt=\"Open In Colab\"/></a>"
      ]
    },
    {
      "cell_type": "code",
      "execution_count": 2,
      "metadata": {
        "colab": {
          "base_uri": "https://localhost:8080/"
        },
        "id": "_HrCkAPHBOKv",
        "outputId": "7c27349f-2353-424c-a758-16a4cdc5a745"
      },
      "outputs": [
        {
          "output_type": "stream",
          "name": "stdout",
          "text": [
            "[5]\n"
          ]
        }
      ],
      "source": [
        "def lonelynumber(n):\n",
        "  s=[]\n",
        "  for i in n:\n",
        "    v=n.count(i)\n",
        "    if v<2:\n",
        "      s.append(i)\n",
        "  print(s)\n",
        "lonelynumber([1,2,2,4,5,4,1])"
      ]
    },
    {
      "cell_type": "code",
      "source": [
        "def twoswap(n):\n",
        "  L=[]\n",
        "  n=str(n)\n",
        "  for i in n:\n",
        "    L.append(int(i))\n",
        "  p1=[]\n",
        "  p2=[]\n",
        "  for i in L:\n",
        "    if (L.index(i))%2==0:\n",
        "      p1.append(i)\n",
        "    else:\n",
        "      p2.append(i)\n",
        "  k=[]\n",
        "  for i in range(len(p2)):\n",
        "    k.append(p2[i])\n",
        "    k.append(p1[i])\n",
        "  s=\" \"\n",
        "  for i in k:\n",
        "    s+=str(i)\n",
        "  print(int(s))\n",
        "twoswap(384392)"
      ],
      "metadata": {
        "colab": {
          "base_uri": "https://localhost:8080/"
        },
        "id": "iE5VtBqhB_4M",
        "outputId": "321424e3-2074-44c8-fe07-53aedbb775bc"
      },
      "execution_count": 18,
      "outputs": [
        {
          "output_type": "stream",
          "name": "stdout",
          "text": [
            "8324\n"
          ]
        }
      ]
    }
  ]
}