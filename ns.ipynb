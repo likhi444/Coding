{
  "nbformat": 4,
  "nbformat_minor": 0,
  "metadata": {
    "colab": {
      "provenance": [],
      "authorship_tag": "ABX9TyOHx2K9TNqN9VuQk4M+K1r8",
      "include_colab_link": true
    },
    "kernelspec": {
      "name": "python3",
      "display_name": "Python 3"
    },
    "language_info": {
      "name": "python"
    }
  },
  "cells": [
    {
      "cell_type": "markdown",
      "metadata": {
        "id": "view-in-github",
        "colab_type": "text"
      },
      "source": [
        "<a href=\"https://colab.research.google.com/github/likhi444/Coding/blob/master/ns.ipynb\" target=\"_parent\"><img src=\"https://colab.research.google.com/assets/colab-badge.svg\" alt=\"Open In Colab\"/></a>"
      ]
    },
    {
      "cell_type": "code",
      "execution_count": 5,
      "metadata": {
        "colab": {
          "base_uri": "https://localhost:8080/"
        },
        "id": "hsdwpyTjoPeM",
        "outputId": "95100f86-bf30-4a92-8a49-aa59533f907f"
      },
      "outputs": [
        {
          "output_type": "stream",
          "name": "stdout",
          "text": [
            "AHTIHKIL\n"
          ]
        }
      ],
      "source": [
        "s=\"LIKHITHA\"\n",
        "s1=list(s)\n",
        "def pop():\n",
        "  restr=\"\"\n",
        "  for i in range(len(s1)):\n",
        "    PE=s1.pop()\n",
        "    restr+=PE\n",
        "  print(restr)\n",
        "pop()"
      ]
    },
    {
      "cell_type": "code",
      "source": [
        "num=['r','g','b','b','l','l']\n",
        "s=set(num)\n",
        "L=[]\n",
        "for i in s:\n",
        "  c=num.count(i)\n",
        "  if c%2!=0:\n",
        "    L.append(c)\n",
        "p=max(L)\n",
        "for i in s:\n",
        "  if num.count(i)==p:\n",
        "     print(i)\n",
        "\n"
      ],
      "metadata": {
        "colab": {
          "base_uri": "https://localhost:8080/"
        },
        "id": "t_4El-xIqCz-",
        "outputId": "c175ac37-b50c-4447-fb25-6e7588dda31f"
      },
      "execution_count": 8,
      "outputs": [
        {
          "output_type": "stream",
          "name": "stdout",
          "text": [
            "r\n",
            "g\n"
          ]
        }
      ]
    },
    {
      "cell_type": "code",
      "source": [
        "n=[7,4,8,2,9]\n",
        "c=0\n",
        "temp=n[0]\n",
        "for i in n:\n",
        "  if i>=temp:\n",
        "    c+=1\n",
        "print(c)"
      ],
      "metadata": {
        "colab": {
          "base_uri": "https://localhost:8080/"
        },
        "id": "xYKeMq9yr1nJ",
        "outputId": "0f524836-51fb-4d73-8076-44b7049f3aa4"
      },
      "execution_count": 10,
      "outputs": [
        {
          "output_type": "stream",
          "name": "stdout",
          "text": [
            "3\n"
          ]
        }
      ]
    }
  ]
}