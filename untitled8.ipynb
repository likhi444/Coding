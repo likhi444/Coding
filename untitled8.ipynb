{
  "nbformat": 4,
  "nbformat_minor": 0,
  "metadata": {
    "colab": {
      "provenance": [],
      "authorship_tag": "ABX9TyPcIx+PmwOxG4dZwmuu2baQ",
      "include_colab_link": true
    },
    "kernelspec": {
      "name": "python3",
      "display_name": "Python 3"
    },
    "language_info": {
      "name": "python"
    }
  },
  "cells": [
    {
      "cell_type": "markdown",
      "metadata": {
        "id": "view-in-github",
        "colab_type": "text"
      },
      "source": [
        "<a href=\"https://colab.research.google.com/github/likhi444/Coding/blob/master/untitled8.ipynb\" target=\"_parent\"><img src=\"https://colab.research.google.com/assets/colab-badge.svg\" alt=\"Open In Colab\"/></a>"
      ]
    },
    {
      "cell_type": "code",
      "execution_count": null,
      "metadata": {
        "colab": {
          "base_uri": "https://localhost:8080/"
        },
        "id": "LKR43TgEuCme",
        "outputId": "0ad233c3-ed4c-4dd6-c5ba-8c67cc90c3b9"
      },
      "outputs": [
        {
          "output_type": "stream",
          "name": "stdout",
          "text": [
            "2.5\n"
          ]
        }
      ],
      "source": [
        "n=4123\n",
        "c=0\n",
        "ct=0\n",
        "while n>0:\n",
        "  s=n%10\n",
        "  c+=s\n",
        "  n=n//10\n",
        "  ct +=1\n",
        "print(c/ct)\n"
      ]
    },
    {
      "cell_type": "code",
      "source": [
        "n=[7,4,8,9,5,10]\n",
        "c=0\n",
        "temp=n[0]\n",
        "for i in n:\n",
        "  if i>temp:\n",
        "    c+=1\n",
        "    print(c)\n"
      ],
      "metadata": {
        "colab": {
          "base_uri": "https://localhost:8080/"
        },
        "id": "kb2JOMNhvBdv",
        "outputId": "a4f2b683-5d5a-40fa-f37f-ec4d86337da9"
      },
      "execution_count": 9,
      "outputs": [
        {
          "output_type": "stream",
          "name": "stdout",
          "text": [
            "1\n",
            "2\n",
            "3\n"
          ]
        }
      ]
    },
    {
      "cell_type": "code",
      "source": [],
      "metadata": {
        "id": "ZS8r06MRwz4C"
      },
      "execution_count": null,
      "outputs": []
    }
  ]
}