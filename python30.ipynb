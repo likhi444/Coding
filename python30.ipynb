{
  "nbformat": 4,
  "nbformat_minor": 0,
  "metadata": {
    "colab": {
      "provenance": [],
      "authorship_tag": "ABX9TyNDFyTh98xiEOXxff3/34ot",
      "include_colab_link": true
    },
    "kernelspec": {
      "name": "python3",
      "display_name": "Python 3"
    },
    "language_info": {
      "name": "python"
    }
  },
  "cells": [
    {
      "cell_type": "markdown",
      "metadata": {
        "id": "view-in-github",
        "colab_type": "text"
      },
      "source": [
        "<a href=\"https://colab.research.google.com/github/likhi444/Coding/blob/master/python30.ipynb\" target=\"_parent\"><img src=\"https://colab.research.google.com/assets/colab-badge.svg\" alt=\"Open In Colab\"/></a>"
      ]
    },
    {
      "cell_type": "code",
      "execution_count": 7,
      "metadata": {
        "colab": {
          "base_uri": "https://localhost:8080/"
        },
        "id": "Yh1s8iaABOuN",
        "outputId": "2dbb54ff-133f-4635-a3c0-2ce9df44467f"
      },
      "outputs": [
        {
          "output_type": "stream",
          "name": "stdout",
          "text": [
            "2\n"
          ]
        }
      ],
      "source": [
        "n=802400\n",
        "n1=str(n)\n",
        "n1=n1[::-1]\n",
        "c=0\n",
        "for i in n1:\n",
        "  if i=='0':\n",
        "    c+=1\n",
        "  else:\n",
        "    break\n",
        "print(c)\n",
        ""
      ]
    },
    {
      "cell_type": "code",
      "source": [
        "a=20\n",
        "b=15\n",
        "L1=[]\n",
        "L2=[]\n",
        "for i in range(1,a+1):\n",
        "  if a%i==0:\n",
        "    L1.append(i)\n",
        "for i in range(1,b+1):\n",
        "  if b%i==0:\n",
        "    L2.append(i)\n",
        "L3=[]\n",
        "for i in L1:\n",
        "  if i in L2:\n",
        "    L3.append(i)\n",
        "t=(max(L3))\n",
        "print(t)\n",
        "print(a*b/t)"
      ],
      "metadata": {
        "colab": {
          "base_uri": "https://localhost:8080/"
        },
        "id": "U_BvLN7DC8_S",
        "outputId": "a9d306e7-48a2-4d85-f8c0-424fa888bd20"
      },
      "execution_count": 10,
      "outputs": [
        {
          "output_type": "stream",
          "name": "stdout",
          "text": [
            "5\n",
            "60.0\n"
          ]
        }
      ]
    },
    {
      "cell_type": "code",
      "source": [
        "def fact(n):\n",
        "  f=1;\n",
        "  for i in range(n):\n",
        ""
      ],
      "metadata": {
        "id": "PmVTApHEFJI5"
      },
      "execution_count": null,
      "outputs": []
    }
  ]
}